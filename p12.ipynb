{
 "cells": [
  {
   "cell_type": "code",
   "execution_count": null,
   "metadata": {},
   "outputs": [],
   "source": [
    "import numpy as np\n",
    "ts = \"\"\"???.### 1,1,3\n",
    ".??..??...?##. 1,1,3\n",
    "?#?#?#?#?#?#?#? 1,3,1,6\n",
    "????.#...#... 4,1,1\n",
    "????.######..#####. 1,6,5\n",
    "?###???????? 3,2,1\n",
    "\"\"\"\n",
    "ts = open('input_p12.txt').read()\n",
    "pr = []\n",
    "for l in ts.split('\\n')[:-1]:\n",
    "    s, cfg = l.split(' ')\n",
    "    cfg = tuple(int(x) for x in cfg.split(','))\n",
    "    print(s, cfg)\n",
    "    pr.append((s, cfg))"
   ]
  },
  {
   "cell_type": "code",
   "execution_count": null,
   "metadata": {},
   "outputs": [],
   "source": [
    "def get_cfg(s):\n",
    "    assert '?' not in s\n",
    "    return tuple(len(x) for x in s.split('.') if x)\n",
    "get_cfg('.#.###.#.######')"
   ]
  },
  {
   "cell_type": "code",
   "execution_count": null,
   "metadata": {},
   "outputs": [],
   "source": []
  },
  {
   "cell_type": "code",
   "execution_count": null,
   "metadata": {},
   "outputs": [],
   "source": [
    "from itertools import combinations\n",
    "def get_combs(s, cfg):\n",
    "    n_unk = sum(x=='?' for x in s)\n",
    "    n_ng = sum(x=='#' for x in s)\n",
    "    lack = sum(cfg)-n_ng\n",
    "    unk_pos = [i for i, x in enumerate(s) if x=='?'] \n",
    "    s0 = list(s.replace('?', '.'))\n",
    "    rtn = 0\n",
    "    for c in combinations(unk_pos, lack):\n",
    "        s2 = s0.copy()\n",
    "        for i in c:\n",
    "            s2[i] = '#'\n",
    "        s2 = \"\".join(s2)\n",
    "        cfg2 = get_cfg(s2)\n",
    "        if cfg2 == cfg:\n",
    "            #print(s2)\n",
    "            rtn+=1\n",
    "    return rtn\n",
    "S = 0\n",
    "for s, cfg in pr:\n",
    "    S += get_combs(s, cfg)\n",
    "S"
   ]
  },
  {
   "cell_type": "code",
   "execution_count": null,
   "metadata": {},
   "outputs": [],
   "source": [
    "s, cfg = pr[1]\n",
    "get_combs(s, cfg)"
   ]
  },
  {
   "cell_type": "code",
   "execution_count": null,
   "metadata": {},
   "outputs": [],
   "source": [
    "\n",
    "def rec(s0, cfg, unk_pos=None, i=0):\n",
    "    if unk_pos is None:\n",
    "        unk_pos = [j for j, x in enumerate(s0) if x=='?']\n",
    "        s0 = list(s0.replace('?', '.'))\n",
    "        #print(\"\".join(s0), cfg, unk_pos)\n",
    "    elif i == len(unk_pos):\n",
    "        rtn = get_cfg(\"\".join(s0)) == cfg\n",
    "        #print(\"return\", rtn, \"\".join(s0), i, len(unk_pos))\n",
    "        return rtn\n",
    "    else:\n",
    "        sl = unk_pos[i]\n",
    "        sr = \"\".join(s0[:sl])\n",
    "        #print(sr,  i)\n",
    "        scfg = get_cfg(sr)\n",
    "        if len(scfg):\n",
    "            if len(scfg)<=len(cfg) and \\\n",
    "                scfg[:-1]==cfg[:len(scfg)-1] and \\\n",
    "                    scfg[-1]<=cfg[len(scfg)-1]:\n",
    "                pass\n",
    "            else:\n",
    "                #print(cfg, scfg)\n",
    "                #print('impossible', sr)\n",
    "                return 0\n",
    "    rtn = 0\n",
    "    rtn += rec(s0, cfg, unk_pos, i+1)\n",
    "    if sum(1 for x in s0 if x=='#') < sum(cfg):\n",
    "        s1 = s0.copy()\n",
    "        s1[unk_pos[i]] = '#'\n",
    "        rtn += rec(s1, cfg, unk_pos, i+1)\n",
    "    return rtn\n",
    "#for s, cfg in pr:\n",
    "#    print(s, cfg)\n",
    "\n",
    "#    print(rec(s, cfg))"
   ]
  },
  {
   "cell_type": "code",
   "execution_count": null,
   "metadata": {},
   "outputs": [],
   "source": [
    "s, cfg = pr[1]\n",
    "s, cfg"
   ]
  },
  {
   "cell_type": "code",
   "execution_count": null,
   "metadata": {},
   "outputs": [],
   "source": []
  },
  {
   "cell_type": "code",
   "execution_count": null,
   "metadata": {},
   "outputs": [],
   "source": [
    "S =0\n",
    "for i, (s, cfg) in enumerate(pr):\n",
    "    S+=rec(\"?\".join([s]*5), cfg+cfg+cfg+cfg+cfg)\n",
    "    print(i, S)\n",
    "S"
   ]
  },
  {
   "cell_type": "code",
   "execution_count": null,
   "metadata": {},
   "outputs": [],
   "source": [
    "len(pr)"
   ]
  },
  {
   "cell_type": "code",
   "execution_count": null,
   "metadata": {},
   "outputs": [],
   "source": [
    "\"?\".join([s]*5) == '???.###????.###????.###????.###????.###'"
   ]
  },
  {
   "cell_type": "code",
   "execution_count": null,
   "metadata": {},
   "outputs": [],
   "source": [
    "\n",
    "cfg+cfg+cfg+cfg+cfg == (1,1,3,1,1,3,1,1,3,1,1,3,1,1,3)"
   ]
  },
  {
   "cell_type": "code",
   "execution_count": null,
   "metadata": {},
   "outputs": [],
   "source": [
    "get_cfg('#.#')"
   ]
  },
  {
   "cell_type": "code",
   "execution_count": null,
   "metadata": {},
   "outputs": [],
   "source": [
    ""
   ]
  }
 ],
 "nbformat": 4,
 "nbformat_minor": 2,
 "metadata": {
  "language_info": {
   "codemirror_mode": {
    "name": "ipython",
    "version": 3
   },
   "file_extension": ".py",
   "mimetype": "text/x-python",
   "name": "python",
   "nbconvert_exporter": "python",
   "pygments_lexer": "ipython3",
   "version": 3
  }
 }
}